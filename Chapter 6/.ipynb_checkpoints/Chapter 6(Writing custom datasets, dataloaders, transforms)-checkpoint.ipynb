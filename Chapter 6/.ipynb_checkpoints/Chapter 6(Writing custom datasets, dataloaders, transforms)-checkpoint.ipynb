{
 "cells": [
  {
   "cell_type": "markdown",
   "metadata": {},
   "source": [
    "We see how to load an preprocess data from a non trivial dataset"
   ]
  },
  {
   "cell_type": "code",
   "execution_count": 1,
   "metadata": {},
   "outputs": [],
   "source": [
    "from __future__ import print_function, division\n",
    "import os\n",
    "import torch\n",
    "import pandas as pd\n",
    "from skimage import io, transform\n",
    "import numpy as np\n",
    "import matplotlib.pyplot as plt\n",
    "from torch.utils.data import Dataset, DataLoader\n",
    "from torchvision import transforms, utils\n",
    "\n",
    "# Ignore warnings\n",
    "import warnings\n",
    "warnings.filterwarnings(\"ignore\")\n",
    "\n",
    "plt.ion()   # interactive mode"
   ]
  },
  {
   "cell_type": "markdown",
   "metadata": {},
   "source": [
    "Dataset comes with a csv file with annotations which looks like this:<br>\n",
    "        image_name,part_0_x,part_0_y,part_1_x,part_1_y,part_2_x, ... ,part_67_x,part_67_y\n",
    "0805personali01.jpg,27,83,27,98, ... 84,134\n",
    "1084239450_e76e00b7e7.jpg,70,236,71,257, ... ,128,312"
   ]
  },
  {
   "cell_type": "code",
   "execution_count": 2,
   "metadata": {},
   "outputs": [],
   "source": [
    "#read cs file and get annotations in an (N,2 array where N is number of landmarks)\n",
    "\n",
    "landmarks_frame=pd.read_csv('faces/face_landmark.csv')\n",
    "\n",
    "n=65\n",
    "img_name=landmarks_frame.iloc[n,0]\n",
    "landmarks=landmarks_frame.iloc[n,1:]\n",
    "landmarks=np.asarray(landmarks)\n",
    "landmarks=landmarks.astype('float').reshape(-1,2)\n",
    "\n",
    "print('Image name: {}'.fo)"
   ]
  },
  {
   "cell_type": "code",
   "execution_count": null,
   "metadata": {},
   "outputs": [],
   "source": []
  }
 ],
 "metadata": {
  "kernelspec": {
   "display_name": "Python 3",
   "language": "python",
   "name": "python3"
  },
  "language_info": {
   "codemirror_mode": {
    "name": "ipython",
    "version": 3
   },
   "file_extension": ".py",
   "mimetype": "text/x-python",
   "name": "python",
   "nbconvert_exporter": "python",
   "pygments_lexer": "ipython3",
   "version": "3.6.9"
  }
 },
 "nbformat": 4,
 "nbformat_minor": 4
}
