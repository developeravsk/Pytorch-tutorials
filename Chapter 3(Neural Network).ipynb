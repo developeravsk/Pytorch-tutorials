{
 "cells": [
  {
   "cell_type": "markdown",
   "metadata": {},
   "source": [
    "can be constructed using torch.nn package <br><br>\n",
    "nn depends on autograd to define models and differentiate them. The nn.Module contain layer and a method forward(input) that returns an output<br><br>\n",
    "A typical neural network training procedure:<br><br>\n",
    "<ul>\n",
    "    <li>1. Define a neural network that has some learnable parameter</li>\n",
    "    <li>2. Iterate over a dataset of inputs</li>\n",
    "    <li>Process input through network</li>\n",
    "    <li>Compute loss</li>\n",
    "    <li>Propagate gradients back into the network parameters</li>\n",
    "    <li>Update weight of network, typically using a simple update rule. weight=weight-learningrate x gradient\n",
    "    </ul>"
   ]
  },
  {
   "cell_type": "code",
   "execution_count": 42,
   "metadata": {},
   "outputs": [
    {
     "name": "stdout",
     "output_type": "stream",
     "text": [
      "Net(\n",
      "  (conv1): Conv2d(1, 32, kernel_size=(3, 3), stride=(1, 1))\n",
      "  (conv2): Conv2d(32, 64, kernel_size=(3, 3), stride=(1, 1))\n",
      "  (fc1): Linear(in_features=7200, out_features=120, bias=True)\n",
      "  (fc2): Linear(in_features=120, out_features=84, bias=True)\n",
      "  (fc3): Linear(in_features=84, out_features=10, bias=True)\n",
      ")\n"
     ]
    }
   ],
   "source": [
    "#defining network\n",
    "import torch\n",
    "import torch.nn as nn\n",
    "import torch.nn.functional as F\n",
    "\n",
    "class Net(nn.Module):\n",
    "    def __init__(self):\n",
    "        super(Net, self).__init__()\n",
    "        #1input image channel, 6 output channels, 3x3 convolution\n",
    "        #kernel\n",
    "#         self.conv1=nn.Conv2d(1,6,3)\n",
    "#         self.conv2=nn.Conv2d(6,16,3)\n",
    "        self.conv1 = nn.Conv2d(1, 32, 3, 1)\n",
    "        self.conv2 = nn.Conv2d(32, 64, 3, 1)\n",
    "        #an affine operation: y=w*x+b\n",
    "        self.fc1=nn.Linear(7200,120) #6x6 from image dimension\n",
    "        self.fc2=nn.Linear(120,84)\n",
    "        self.fc3=nn.Linear(84,10)\n",
    "    \n",
    "    def forward(self, x):\n",
    "        #Max pooling over (2 x 2) window\n",
    "        x=F.max_pool2d(F.relu(self.conv1(x)),(2,2))\n",
    "        #If size is square, you can only specify single number\n",
    "        X=F.max_pool2d(F.relu(self.conv2(x)),2)\n",
    "        x=x.view(-1, self.num_flat_features(x))\n",
    "        x=F.relu(self.fc1(x))\n",
    "        x=F.relu(self.fc2(x))\n",
    "        x=self.fc3(x)\n",
    "        return x\n",
    "    \n",
    "    def num_flat_features(self, x):\n",
    "        size=x.size()[1:] #all dimension except batch dimension\n",
    "        num_features=1\n",
    "        for s in size:\n",
    "            num_features *=s\n",
    "        return num_features\n",
    "\n",
    "net=Net()\n",
    "print(net)"
   ]
  },
  {
   "cell_type": "markdown",
   "metadata": {},
   "source": [
    "###### We only need to define forward function. The backward function is automatically defined using autograd"
   ]
  },
  {
   "cell_type": "code",
   "execution_count": 43,
   "metadata": {},
   "outputs": [
    {
     "name": "stdout",
     "output_type": "stream",
     "text": [
      "10\n",
      "torch.Size([32, 1, 3, 3])\n"
     ]
    }
   ],
   "source": [
    "#Learnable parameters are returned by net.parameters()\n",
    "params=list(net.parameters())\n",
    "print(len(params))\n",
    "print(params[0].size())"
   ]
  },
  {
   "cell_type": "markdown",
   "metadata": {},
   "source": [
    "###### Now try 32*32 input"
   ]
  },
  {
   "cell_type": "code",
   "execution_count": 44,
   "metadata": {},
   "outputs": [
    {
     "name": "stdout",
     "output_type": "stream",
     "text": [
      "tensor([[ 0.1287,  0.0478, -0.1340, -0.0307, -0.1510,  0.1099,  0.0204,  0.0143,\n",
      "          0.0097, -0.0323]], grad_fn=<AddmmBackward>)\n"
     ]
    }
   ],
   "source": [
    "#to use this on MNIST please resize image from dataset to 32*32\n",
    "input=torch.randn(1,1,32,32)\n",
    "out=net(input)\n",
    "print(out)"
   ]
  },
  {
   "cell_type": "code",
   "execution_count": 45,
   "metadata": {},
   "outputs": [],
   "source": [
    "#zero the gradient buffers of all parameters and backprops with random gradients\n",
    "net.zero_grad()\n",
    "out.backward(torch.randn(1,10))"
   ]
  },
  {
   "cell_type": "markdown",
   "metadata": {},
   "source": [
    "torch.nn only supports mini batches. The entire torch.nn package only suppots inputs that are a mini batch of samples, and not a single sample\n",
    "<br><br>\n",
    "Eg. nn.Conv2d will take in a 4D tensor of nSamples x nChannels x Height x Width<br><br>\n",
    "If you have a single sample, just use input.unsqueeze(0) to add a fake batch dimension\n"
   ]
  },
  {
   "cell_type": "markdown",
   "metadata": {},
   "source": [
    "# Loss function\n"
   ]
  },
  {
   "cell_type": "markdown",
   "metadata": {},
   "source": [
    "Takes (output, target) pair of inputs, and computes a value that estimates how far away the output is from the target."
   ]
  },
  {
   "cell_type": "markdown",
   "metadata": {},
   "source": [
    "<ul>\n",
    "     <li>   torch.Tensor - A multi-dimensional array with support for autograd operations like backward(). Also holds the gradient w.r.t. the tensor.</li>\n",
    "      <li>  nn.Module - Neural network module. Convenient way of encapsulating parameters, with helpers for moving them to GPU, exporting, loading, etc.</li>\n",
    "       <li> nn.Parameter - A kind of Tensor, that is automatically registered as a parameter when assigned as an attribute to a Module.</li>\n",
    "        <li>autograd.Function - Implements forward and backward definitions of an autograd operation. Every Tensor operation creates at least a single Function node that connects to functions that created a Tensor and encodes its history.</li>\n",
    "</ul>\n"
   ]
  },
  {
   "cell_type": "code",
   "execution_count": 52,
   "metadata": {},
   "outputs": [
    {
     "name": "stdout",
     "output_type": "stream",
     "text": [
      "tensor(0.9404, grad_fn=<MseLossBackward>)\n"
     ]
    }
   ],
   "source": [
    "#Considering MSEloss\n",
    "output=net(input)\n",
    "target=torch.randn(10) #dummy target\n",
    "target=target.view(1,-1) #making it same shape as output\n",
    "criterion=nn.MSELoss()\n",
    "\n",
    "loss=criterion(output, target)\n",
    "print(loss)"
   ]
  },
  {
   "cell_type": "markdown",
   "metadata": {},
   "source": [
    "Now, if you follow loss in the backward direction, using its .grad_fn attribute, you will see a graph of computations that looks like this:<br><br>\n",
    "input -> conv2d -> relu -> maxpool2d -> conv2d -> relu -> maxpool2d\n",
    "<br>\n",
    "      -> view -> linear -> relu -> linear -> relu -> linear<br>\n",
    "      -> MSELoss<br>\n",
    "      -> loss<br>"
   ]
  },
  {
   "cell_type": "markdown",
   "metadata": {},
   "source": [
    "So, when we call loss.backward(), the whole graph is differentiated w.r.t. the loss, and all Tensors in the graph that has requires_grad=True will have their .grad Tensor accumulated with the gradient."
   ]
  },
  {
   "cell_type": "code",
   "execution_count": 53,
   "metadata": {},
   "outputs": [
    {
     "name": "stdout",
     "output_type": "stream",
     "text": [
      "<MseLossBackward object at 0x7ff14f1b2cc0>\n",
      "<AddmmBackward object at 0x7ff14f1b2828>\n",
      "<AccumulateGrad object at 0x7ff14f1b2cc0>\n"
     ]
    }
   ],
   "source": [
    "print(loss.grad_fn) #MSE loss\n",
    "print(loss.grad_fn.next_functions[0][0]) #Linear\n",
    "print(loss.grad_fn.next_functions[0][0].next_functions[0][0]) "
   ]
  },
  {
   "cell_type": "markdown",
   "metadata": {},
   "source": [
    "# Backpropagate"
   ]
  },
  {
   "cell_type": "code",
   "execution_count": 55,
   "metadata": {},
   "outputs": [
    {
     "name": "stdout",
     "output_type": "stream",
     "text": [
      "conv1.bias.grad before backward\n",
      "tensor([0., 0., 0., 0., 0., 0., 0., 0., 0., 0., 0., 0., 0., 0., 0., 0., 0., 0., 0., 0., 0., 0., 0., 0.,\n",
      "        0., 0., 0., 0., 0., 0., 0., 0.])\n",
      "conv1.bias.grad after backward\n",
      "tensor([ 0.0087,  0.0102,  0.0047,  0.0075,  0.0075,  0.0095, -0.0091, -0.0014,\n",
      "        -0.0058, -0.0065, -0.0049, -0.0085,  0.0144, -0.0122, -0.0033,  0.0066,\n",
      "        -0.0072, -0.0078,  0.0033,  0.0068,  0.0057,  0.0119, -0.0008, -0.0176,\n",
      "         0.0077, -0.0030,  0.0047,  0.0027,  0.0038, -0.0047,  0.0044,  0.0038])\n"
     ]
    }
   ],
   "source": [
    "#To backpropagate the error all we have to do is to loss.backward()\n",
    "\n",
    "#Clear existing gradient though first\n",
    "net.zero_grad()\n",
    "\n",
    "\n",
    "print('conv1.bias.grad before backward')\n",
    "print(net.conv1.bias.grad)\n",
    "\n",
    "loss.backward()\n",
    "\n",
    "print('conv1.bias.grad after backward')\n",
    "print(net.conv1.bias.grad)"
   ]
  },
  {
   "cell_type": "markdown",
   "metadata": {},
   "source": [
    "# Updating weights"
   ]
  },
  {
   "cell_type": "markdown",
   "metadata": {},
   "source": [
    "The simplest update rule used in practice is the Stochastic Gradient Descent (SGD):\n",
    "<br>\n",
    "\n",
    "    weight = weight - learning_rate * gradient\n",
    "<br>\n",
    "can be simply done using following code in python\n",
    "   \n",
    "       learning_rate = 0.01\n",
    "       for f in net.parameters():\n",
    "       f.data.sub_(f.grad.data * learning_rate)\n"
   ]
  },
  {
   "cell_type": "markdown",
   "metadata": {},
   "source": [
    "However, as you use neural networks, you want to use various different update rules such as SGD, Nesterov-SGD, Adam, RMSProp, etc. To enable this, we built a small package: torch.optim that implements all these methods. Using it is very simple:"
   ]
  },
  {
   "cell_type": "code",
   "execution_count": 56,
   "metadata": {},
   "outputs": [],
   "source": [
    "import torch.optim as optim\n",
    "\n",
    "#create optimizer\n",
    "optimizer=optim.SGD(net.parameters(), lr=0.01)\n",
    "\n",
    "# in your training loop:\n",
    "optimizer.zero_grad()   # zero the gradient buffers\n",
    "output = net(input)\n",
    "loss = criterion(output, target)\n",
    "loss.backward()\n",
    "optimizer.step()    # Does the update"
   ]
  },
  {
   "cell_type": "code",
   "execution_count": null,
   "metadata": {},
   "outputs": [],
   "source": []
  },
  {
   "cell_type": "code",
   "execution_count": null,
   "metadata": {},
   "outputs": [],
   "source": []
  }
 ],
 "metadata": {
  "kernelspec": {
   "display_name": "Python 3",
   "language": "python",
   "name": "python3"
  },
  "language_info": {
   "codemirror_mode": {
    "name": "ipython",
    "version": 3
   },
   "file_extension": ".py",
   "mimetype": "text/x-python",
   "name": "python",
   "nbconvert_exporter": "python",
   "pygments_lexer": "ipython3",
   "version": "3.6.9"
  }
 },
 "nbformat": 4,
 "nbformat_minor": 4
}
