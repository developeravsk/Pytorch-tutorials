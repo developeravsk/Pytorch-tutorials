{
 "cells": [
  {
   "cell_type": "code",
   "execution_count": 1,
   "metadata": {},
   "outputs": [],
   "source": [
    "from __future__ import print_function\n",
    "import torch"
   ]
  },
  {
   "cell_type": "code",
   "execution_count": 2,
   "metadata": {},
   "outputs": [
    {
     "name": "stdout",
     "output_type": "stream",
     "text": [
      "tensor([[2.5630e-12, 1.4586e-19, 8.2990e-33],\n",
      "        [1.3563e-19, 1.3563e-19, 1.3563e-19],\n",
      "        [1.3563e-19, 1.3563e-19, 1.3563e-19],\n",
      "        [1.3563e-19, 1.4587e-19, 3.8188e-05],\n",
      "        [8.1546e-33, 1.3563e-19, 1.6114e-19]])\n"
     ]
    }
   ],
   "source": [
    "#Create a 5x3 matrix uninitialized\n",
    "x=torch.empty(5,3)\n",
    "print(x)"
   ]
  },
  {
   "cell_type": "code",
   "execution_count": 3,
   "metadata": {},
   "outputs": [
    {
     "name": "stdout",
     "output_type": "stream",
     "text": [
      "tensor([[0.2466, 0.6562, 0.4628],\n",
      "        [0.1012, 0.4955, 0.6461],\n",
      "        [0.0370, 0.4886, 0.8387],\n",
      "        [0.9531, 0.8834, 0.2893],\n",
      "        [0.1369, 0.6950, 0.9006]])\n"
     ]
    }
   ],
   "source": [
    "#create randomly initialized matrix\n",
    "x=torch.rand(5,3)\n",
    "print(x)"
   ]
  },
  {
   "cell_type": "code",
   "execution_count": 7,
   "metadata": {},
   "outputs": [
    {
     "name": "stdout",
     "output_type": "stream",
     "text": [
      "tensor([[0, 0, 0],\n",
      "        [0, 0, 0],\n",
      "        [0, 0, 0],\n",
      "        [0, 0, 0],\n",
      "        [0, 0, 0]])\n"
     ]
    }
   ],
   "source": [
    "#create matrix filled with zero and dtype long\n",
    "x=torch.zeros(5,3, dtype=torch.long)\n",
    "print(x)"
   ]
  },
  {
   "cell_type": "code",
   "execution_count": 9,
   "metadata": {},
   "outputs": [
    {
     "name": "stdout",
     "output_type": "stream",
     "text": [
      "tensor([5.5000, 3.0000])\n"
     ]
    }
   ],
   "source": [
    "#create tensor directly from data\n",
    "x=torch.tensor([5.5,3])\n",
    "print(x)"
   ]
  },
  {
   "cell_type": "code",
   "execution_count": 11,
   "metadata": {},
   "outputs": [
    {
     "name": "stdout",
     "output_type": "stream",
     "text": [
      "tensor([[1., 1., 1.],\n",
      "        [1., 1., 1.],\n",
      "        [1., 1., 1.],\n",
      "        [1., 1., 1.],\n",
      "        [1., 1., 1.]], dtype=torch.float64)\n",
      "tensor([[ 1.3102, -0.1230,  0.2556],\n",
      "        [-0.6251, -0.4885,  0.3786],\n",
      "        [ 0.2837,  1.1359,  1.1989],\n",
      "        [ 2.4436, -1.8641,  1.6703],\n",
      "        [-0.4124, -0.9033, -0.0213]])\n"
     ]
    }
   ],
   "source": [
    "#creating tensor based on existing tensor. These methods will resue properties of input tensor, unless values are provided by user\n",
    "x=x.new_ones(5,3, dtype=torch.double)\n",
    "print(x)\n",
    "x=torch.randn_like(x, dtype=torch.float)\n",
    "print(x)\n"
   ]
  },
  {
   "cell_type": "markdown",
   "metadata": {},
   "source": [
    "# Addition operation"
   ]
  },
  {
   "cell_type": "code",
   "execution_count": 12,
   "metadata": {},
   "outputs": [
    {
     "name": "stdout",
     "output_type": "stream",
     "text": [
      "tensor([[ 1.8878e+00,  4.4207e-02,  1.0281e+00],\n",
      "        [-2.3617e-01, -6.3447e-02,  4.3442e-01],\n",
      "        [ 1.1649e+00,  2.0293e+00,  1.6878e+00],\n",
      "        [ 2.8159e+00, -1.7029e+00,  2.5846e+00],\n",
      "        [ 1.5128e-03, -8.3406e-01,  2.5271e-01]])\n"
     ]
    }
   ],
   "source": [
    "#syntax 1\n",
    "y=torch.rand(5,3)\n",
    "print(x+y)"
   ]
  },
  {
   "cell_type": "code",
   "execution_count": 13,
   "metadata": {},
   "outputs": [
    {
     "name": "stdout",
     "output_type": "stream",
     "text": [
      "tensor([[ 1.8878e+00,  4.4207e-02,  1.0281e+00],\n",
      "        [-2.3617e-01, -6.3447e-02,  4.3442e-01],\n",
      "        [ 1.1649e+00,  2.0293e+00,  1.6878e+00],\n",
      "        [ 2.8159e+00, -1.7029e+00,  2.5846e+00],\n",
      "        [ 1.5128e-03, -8.3406e-01,  2.5271e-01]])\n"
     ]
    }
   ],
   "source": [
    "#syntax 2\n",
    "print(torch.add(x,y))"
   ]
  },
  {
   "cell_type": "code",
   "execution_count": 14,
   "metadata": {},
   "outputs": [
    {
     "name": "stdout",
     "output_type": "stream",
     "text": [
      "tensor([[ 1.8878e+00,  4.4207e-02,  1.0281e+00],\n",
      "        [-2.3617e-01, -6.3447e-02,  4.3442e-01],\n",
      "        [ 1.1649e+00,  2.0293e+00,  1.6878e+00],\n",
      "        [ 2.8159e+00, -1.7029e+00,  2.5846e+00],\n",
      "        [ 1.5128e-03, -8.3406e-01,  2.5271e-01]])\n"
     ]
    }
   ],
   "source": [
    "#providing an output tensor as an argument\n",
    "result=torch.empty(5,3)\n",
    "torch.add(x,y,out=result)\n",
    "print(result)"
   ]
  },
  {
   "cell_type": "code",
   "execution_count": 16,
   "metadata": {},
   "outputs": [
    {
     "name": "stdout",
     "output_type": "stream",
     "text": [
      "tensor([ 0.0442, -0.0634,  2.0293, -1.7029, -0.8341])\n"
     ]
    }
   ],
   "source": [
    "#can use standard numpy like indexing\n",
    "print(result[:,1])"
   ]
  },
  {
   "cell_type": "markdown",
   "metadata": {},
   "source": [
    "# Resizing tensor"
   ]
  },
  {
   "cell_type": "code",
   "execution_count": 20,
   "metadata": {},
   "outputs": [
    {
     "name": "stdout",
     "output_type": "stream",
     "text": [
      "torch.Size([4, 4])\n",
      "torch.Size([16])\n",
      "torch.Size([2, 8])\n"
     ]
    }
   ],
   "source": [
    "x=torch.randn(4,4)\n",
    "y=x.view(16)\n",
    "z=x.view(-1,8)\n",
    "print(x.size())\n",
    "print(y.size())\n",
    "print(z.size())"
   ]
  },
  {
   "cell_type": "code",
   "execution_count": 21,
   "metadata": {},
   "outputs": [
    {
     "name": "stdout",
     "output_type": "stream",
     "text": [
      "tensor([-1.3260])\n",
      "-1.3259804248809814\n"
     ]
    }
   ],
   "source": [
    "#if you have 1 element tensor use .item() to get values as a Python number\n",
    "x=torch.randn(1)\n",
    "print(x)\n",
    "print(x.item())"
   ]
  },
  {
   "cell_type": "markdown",
   "metadata": {},
   "source": [
    "# Tensor to numpy"
   ]
  },
  {
   "cell_type": "code",
   "execution_count": 22,
   "metadata": {},
   "outputs": [
    {
     "name": "stdout",
     "output_type": "stream",
     "text": [
      "tensor([1., 1., 1., 1., 1.])\n",
      "[1. 1. 1. 1. 1.]\n"
     ]
    }
   ],
   "source": [
    "#torch tensor to numpy array\n",
    "a=torch.ones(5)\n",
    "print(a)\n",
    "b=a.numpy()\n",
    "print(b)"
   ]
  },
  {
   "cell_type": "code",
   "execution_count": 23,
   "metadata": {},
   "outputs": [
    {
     "name": "stdout",
     "output_type": "stream",
     "text": [
      "[2. 2. 2. 2. 2.]\n",
      "tensor([2., 2., 2., 2., 2.], dtype=torch.float64)\n"
     ]
    }
   ],
   "source": [
    "#numpy array to torch tensor\n",
    "import numpy as np\n",
    "a=np.ones(5)\n",
    "b=torch.from_numpy(a)\n",
    "np.add(a,1,out=a)\n",
    "print(a)\n",
    "print(b)"
   ]
  },
  {
   "cell_type": "markdown",
   "metadata": {},
   "source": [
    "# Cuda tensors"
   ]
  },
  {
   "cell_type": "code",
   "execution_count": 25,
   "metadata": {},
   "outputs": [
    {
     "name": "stdout",
     "output_type": "stream",
     "text": [
      "cuda\n",
      "tensor([-0.3260], device='cuda:0')\n",
      "tensor([-0.3260], dtype=torch.float64)\n"
     ]
    }
   ],
   "source": [
    "#tensors can be moved onto any device using.to method\n",
    "if torch.cuda.is_available():\n",
    "    device=torch.device('cuda')\n",
    "    print(device)\n",
    "    y=torch.ones_like(x, device=device)\n",
    "    x=x.to(device)\n",
    "    z=x+y\n",
    "    print(z)\n",
    "    print(z.to(\"cpu\", torch.double))"
   ]
  },
  {
   "cell_type": "code",
   "execution_count": null,
   "metadata": {},
   "outputs": [],
   "source": []
  }
 ],
 "metadata": {
  "kernelspec": {
   "display_name": "Python 3",
   "language": "python",
   "name": "python3"
  },
  "language_info": {
   "codemirror_mode": {
    "name": "ipython",
    "version": 3
   },
   "file_extension": ".py",
   "mimetype": "text/x-python",
   "name": "python",
   "nbconvert_exporter": "python",
   "pygments_lexer": "ipython3",
   "version": "3.6.9"
  }
 },
 "nbformat": 4,
 "nbformat_minor": 4
}
